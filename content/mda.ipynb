{
 "cells": [
  {
   "cell_type": "markdown",
   "metadata": {},
   "source": [
    "# MDA using dz_lib and Pyodide\n"
   ]
  },
  {
   "metadata": {},
   "cell_type": "code",
   "outputs": [],
   "execution_count": null,
   "source": [
    "%pip install dz_lib\n",
    "from dz_lib.utils import data\n",
    "from dz_lib.univariate import distributions, mda2\n",
    "\n",
    "samples_array = data.excel_to_array(\"data/testdata.xlsx\")\n",
    "samples = data.read_1d_samples(samples_array)\n",
    "\n",
    "grains = samples[0].grains\n",
    "\n",
    "result = mda2.youngest_single_grain(grains)\n",
    "print(f\"youngest grain age: {result.age} uncertainty: {result.uncertainty}\")\n",
    "\n",
    "result = mda2.youngest_cluster_1s(grains)\n",
    "print(f\"youngest cluster 1s: {result[0].age} uncertainty: {result[0].uncertainty}\")\n",
    "\n",
    "result = mda2.youngest_cluster_2s(grains)\n",
    "print(f\"youngest cluster 2s: {result[0].age} uncertainty: {result[0].uncertainty}\")\n",
    "\n",
    "result = mda2.youngest_3_zircons(grains)\n",
    "print(f\"youngest 3 zircons: {result[0].age} uncertainty: {result[0].uncertainty}\")\n",
    "\n",
    "result = mda2.youngest_3_zircons_overlap(grains)\n",
    "print(f\"youngest 3 zircons overlap: {result[0].age} uncertainty: {result[0].uncertainty}\")\n",
    "\n",
    "result = mda2.youngest_graphical_peak(grains)\n",
    "print(f\"youngest graphical peak: {result}\")\n",
    "\n",
    "result = mda2.youngest_statistical_population(grains)\n",
    "print(f\"youngest statistical population: {result[0].age} uncertainty: {result[0].uncertainty}\")\n",
    "\n",
    "result = mda2.tau_method(grains)\n",
    "print(f\"Tau Method: {result[0].age} uncertainty: {result[0].uncertainty}\")\n"
   ]
  }
 ],
 "metadata": {
  "kernelspec": {
   "display_name": "Python 3 (ipykernel)",
   "language": "python",
   "name": "python3"
  },
  "language_info": {
   "codemirror_mode": {
    "name": "python",
    "version": 3
   },
   "file_extension": ".py",
   "mimetype": "text/x-python",
   "name": "python",
   "nbconvert_exporter": "python",
   "pygments_lexer": "ipython3",
   "version": "3.8"
  }
 },
 "nbformat": 4,
 "nbformat_minor": 4
}
