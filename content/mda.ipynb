{
  "cells": [
    {
      "attachments": {},
      "cell_type": "markdown",
      "metadata": {
        "tags": []
      },
      "source": [
        "# A Python kernel backed by Pyodide\n",
        "\n",
        "![](https://raw.githubusercontent.com/pyodide/pyodide/master/docs/_static/img/pyodide-logo.png)"
      ]
    },
    {
      "cell_type": "code",
      "execution_count": null,
      "metadata": {
        "trusted": true
      },
      "outputs": [],
      "source": [
        from dz_lib.univariate import distributions, mda2, data
        import random
        
        grains = [data.Grain(random.randint(0, 4500), random.uniform(5, 50)) for _ in range(120)]
        result = mda2.youngest_single_grain(grains)
        print(f"youngest grain age: {result.age} uncertainty: {result.uncertainty}")
        print(f"mean age: {sum([grain.age for grain in grains])/len(grains)}")from dz_lib.univariate import distributions, mda2, data
        import random
        
        grains = [data.Grain(random.randint(0, 4500), random.uniform(5, 50)) for _ in range(120)]
        result = mda2.youngest_single_grain(grains)
        print(f"youngest grain age: {result.age} uncertainty: {result.uncertainty}")
        print(f"mean age: {sum([grain.age for grain in grains])/len(grains)}")
      ]
    }
  ],
  "metadata": {
    "kernelspec": {
      "display_name": "Python (Pyodide)",
      "language": "python",
      "name": "python"
    },
    "language_info": {
      "codemirror_mode": {
        "name": "python",
        "version": 3
      },
      "file_extension": ".py",
      "mimetype": "text/x-python",
      "name": "python",
      "nbconvert_exporter": "python",
      "pygments_lexer": "ipython3",
      "version": "3.8"
    },
    "orig_nbformat": 4
  },
  "nbformat": 4,
  "nbformat_minor": 4
}
