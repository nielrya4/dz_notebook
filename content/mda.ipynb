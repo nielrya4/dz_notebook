{
 "cells": [
  {
   "cell_type": "markdown",
   "metadata": {},
   "source": [
    "# MDA using dz_lib and Pyodide\n"
   ]
  },
  {
   "metadata": {},
   "cell_type": "code",
   "source": [
    "%pip install dz_lib\n",
    "from dz_lib.utils import data\n",
    "from dz_lib.univariate import mda"
   ],
   "outputs": [],
   "execution_count": null
  },
  {
   "metadata": {},
   "cell_type": "code",
   "source": [
    "samples_array = data.excel_to_array(\"data/testdata.xlsx\")\n",
    "samples = data.read_1d_samples(samples_array)\n",
    "grains = samples[0].grains\n",
    "table = mda.comparison_table(grains)\n",
    "display(table)"
   ],
   "outputs": [],
   "execution_count": null
  }
 ],
 "metadata": {
  "kernelspec": {
   "display_name": "Python 3 (ipykernel)",
   "language": "python",
   "name": "python3"
  },
  "language_info": {
   "codemirror_mode": {
    "name": "python",
    "version": 3
   },
   "file_extension": ".py",
   "mimetype": "text/x-python",
   "name": "python",
   "nbconvert_exporter": "python",
   "pygments_lexer": "ipython3",
   "version": "3.8"
  }
 },
 "nbformat": 4,
 "nbformat_minor": 4
}
