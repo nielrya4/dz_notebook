{
 "cells": [
  {
   "cell_type": "markdown",
   "metadata": {},
   "source": [
    "# MDA using dz_lib and Pyodide\n"
   ]
  },
  {
   "cell_type": "code",
   "metadata": {
    "trusted": true,
    "ExecuteTime": {
     "end_time": "2025-01-29T18:42:01.659291Z",
     "start_time": "2025-01-29T18:41:59.968952Z"
    }
   },
   "source": [
    "%pip install dz_lib\n",
    "from dz_lib.utils import data\n",
    "from dz_lib.univariate import distributions, mda2\n",
    "import random\n",
    "\n",
    "samples_array = data.excel_to_array(\"data/testdata.xlsx\")\n",
    "samples = data.read_1d_samples(samples_array)\n",
    "\n",
    "grains = samples[0].grains\n",
    "\n",
    "result = mda2.youngest_single_grain(grains)\n",
    "print(f\"youngest grain age: {result.age} uncertainty: {result.uncertainty}\")\n",
    "\n",
    "result = mda2.youngest_cluster_1s(grains)\n",
    "print(f\"youngest cluster 1s: {result[0].age} uncertainty: {result[0].uncertainty}\")\n",
    "\n",
    "result = mda2.youngest_cluster_2s(grains)\n",
    "print(f\"youngest cluster 2s: {result[0].age} uncertainty: {result[0].uncertainty}\")\n",
    "\n",
    "result = mda2.youngest_3_zircons(grains)\n",
    "print(f\"youngest 3 zircons: {result[0].age} uncertainty: {result[0].uncertainty}\")\n",
    "\n",
    "result = mda2.youngest_3_zircons_overlap(grains)\n",
    "print(f\"youngest 3 zircons overlap: {result[0].age} uncertainty: {result[0].uncertainty}\")\n",
    "\n",
    "result = mda2.youngest_graphical_peak(grains)\n",
    "print(f\"youngest graphical peak: {result}\")\n",
    "\n",
    "result = mda2.youngest_statistical_population(grains)\n",
    "print(f\"youngest statistical population: {result[0].age} uncertainty: {result[0].uncertainty}\")\n",
    "\n",
    "result = mda2.tau_method(grains)\n",
    "print(f\"Tau Method: {result[0].age} uncertainty: {result[0].uncertainty}\")\n"
   ],
   "outputs": [
    {
     "name": "stdout",
     "output_type": "stream",
     "text": [
      "Requirement already satisfied: dz_lib in /home/ryan/PycharmProjects/dz_notebook/.venv/lib/python3.10/site-packages (1.1.2)\r\n",
      "Requirement already satisfied: matplotlib in /home/ryan/PycharmProjects/dz_notebook/.venv/lib/python3.10/site-packages (from dz_lib) (3.10.0)\r\n",
      "Requirement already satisfied: numpy in /home/ryan/PycharmProjects/dz_notebook/.venv/lib/python3.10/site-packages (from dz_lib) (2.2.2)\r\n",
      "Requirement already satisfied: openpyxl~=3.1.5 in /home/ryan/PycharmProjects/dz_notebook/.venv/lib/python3.10/site-packages (from dz_lib) (3.1.5)\r\n",
      "Requirement already satisfied: pandas~=2.2.3 in /home/ryan/PycharmProjects/dz_notebook/.venv/lib/python3.10/site-packages (from dz_lib) (2.2.3)\r\n",
      "Requirement already satisfied: peakutils in /home/ryan/PycharmProjects/dz_notebook/.venv/lib/python3.10/site-packages (from dz_lib) (1.3.5)\r\n",
      "Requirement already satisfied: plotly~=5.4.0 in /home/ryan/PycharmProjects/dz_notebook/.venv/lib/python3.10/site-packages (from dz_lib) (5.4.0)\r\n",
      "Requirement already satisfied: scikit-learn~=1.5.2 in /home/ryan/PycharmProjects/dz_notebook/.venv/lib/python3.10/site-packages (from dz_lib) (1.5.2)\r\n",
      "Requirement already satisfied: scipy in /home/ryan/PycharmProjects/dz_notebook/.venv/lib/python3.10/site-packages (from dz_lib) (1.15.1)\r\n",
      "Requirement already satisfied: setuptools~=68.2.0 in /home/ryan/PycharmProjects/dz_notebook/.venv/lib/python3.10/site-packages (from dz_lib) (68.2.0)\r\n",
      "Requirement already satisfied: et-xmlfile in /home/ryan/PycharmProjects/dz_notebook/.venv/lib/python3.10/site-packages (from openpyxl~=3.1.5->dz_lib) (2.0.0)\r\n",
      "Requirement already satisfied: python-dateutil>=2.8.2 in /home/ryan/PycharmProjects/dz_notebook/.venv/lib/python3.10/site-packages (from pandas~=2.2.3->dz_lib) (2.9.0.post0)\r\n",
      "Requirement already satisfied: pytz>=2020.1 in /home/ryan/PycharmProjects/dz_notebook/.venv/lib/python3.10/site-packages (from pandas~=2.2.3->dz_lib) (2024.2)\r\n",
      "Requirement already satisfied: tzdata>=2022.7 in /home/ryan/PycharmProjects/dz_notebook/.venv/lib/python3.10/site-packages (from pandas~=2.2.3->dz_lib) (2025.1)\r\n",
      "Requirement already satisfied: tenacity>=6.2.0 in /home/ryan/PycharmProjects/dz_notebook/.venv/lib/python3.10/site-packages (from plotly~=5.4.0->dz_lib) (9.0.0)\r\n",
      "Requirement already satisfied: six in /home/ryan/PycharmProjects/dz_notebook/.venv/lib/python3.10/site-packages (from plotly~=5.4.0->dz_lib) (1.17.0)\r\n",
      "Requirement already satisfied: joblib>=1.2.0 in /home/ryan/PycharmProjects/dz_notebook/.venv/lib/python3.10/site-packages (from scikit-learn~=1.5.2->dz_lib) (1.4.2)\r\n",
      "Requirement already satisfied: threadpoolctl>=3.1.0 in /home/ryan/PycharmProjects/dz_notebook/.venv/lib/python3.10/site-packages (from scikit-learn~=1.5.2->dz_lib) (3.5.0)\r\n",
      "Requirement already satisfied: contourpy>=1.0.1 in /home/ryan/PycharmProjects/dz_notebook/.venv/lib/python3.10/site-packages (from matplotlib->dz_lib) (1.3.1)\r\n",
      "Requirement already satisfied: cycler>=0.10 in /home/ryan/PycharmProjects/dz_notebook/.venv/lib/python3.10/site-packages (from matplotlib->dz_lib) (0.12.1)\r\n",
      "Requirement already satisfied: fonttools>=4.22.0 in /home/ryan/PycharmProjects/dz_notebook/.venv/lib/python3.10/site-packages (from matplotlib->dz_lib) (4.55.8)\r\n",
      "Requirement already satisfied: kiwisolver>=1.3.1 in /home/ryan/PycharmProjects/dz_notebook/.venv/lib/python3.10/site-packages (from matplotlib->dz_lib) (1.4.8)\r\n",
      "Requirement already satisfied: packaging>=20.0 in /home/ryan/PycharmProjects/dz_notebook/.venv/lib/python3.10/site-packages (from matplotlib->dz_lib) (24.2)\r\n",
      "Requirement already satisfied: pillow>=8 in /home/ryan/PycharmProjects/dz_notebook/.venv/lib/python3.10/site-packages (from matplotlib->dz_lib) (11.1.0)\r\n",
      "Requirement already satisfied: pyparsing>=2.3.1 in /home/ryan/PycharmProjects/dz_notebook/.venv/lib/python3.10/site-packages (from matplotlib->dz_lib) (3.2.1)\r\n",
      "\r\n",
      "\u001B[1m[\u001B[0m\u001B[34;49mnotice\u001B[0m\u001B[1;39;49m]\u001B[0m\u001B[39;49m A new release of pip is available: \u001B[0m\u001B[31;49m23.2.1\u001B[0m\u001B[39;49m -> \u001B[0m\u001B[32;49m25.0\u001B[0m\r\n",
      "\u001B[1m[\u001B[0m\u001B[34;49mnotice\u001B[0m\u001B[1;39;49m]\u001B[0m\u001B[39;49m To update, run: \u001B[0m\u001B[32;49mpip install --upgrade pip\u001B[0m\r\n",
      "Note: you may need to restart the kernel to use updated packages.\n",
      "youngest grain age: 131 uncertainty: 32.24392000957232\n",
      "mean age: 2347.6833333333334\n"
     ]
    }
   ],
   "execution_count": 1
  }
 ],
 "metadata": {
  "kernelspec": {
   "display_name": "Python 3 (ipykernel)",
   "language": "python",
   "name": "python3"
  },
  "language_info": {
   "codemirror_mode": {
    "name": "python",
    "version": 3
   },
   "file_extension": ".py",
   "mimetype": "text/x-python",
   "name": "python",
   "nbconvert_exporter": "python",
   "pygments_lexer": "ipython3",
   "version": "3.8"
  }
 },
 "nbformat": 4,
 "nbformat_minor": 4
}
