{
  "cells": [
    {
      "cell_type": "markdown",
      "metadata": {},
      "source": [
        "# MDA using dz_lib and Pyodide\n",
        "\n",
      ]
    },
    {
      "cell_type": "code",
      "execution_count": null,
      "metadata": {
        "trusted": true
      },
      "outputs": [],
      "source": [
        "from dz_lib.univariate import distributions, mda2, data\n",
        "import random\n",
        "\n",
        "grains = [data.Grain(random.randint(0, 4500), random.uniform(5, 50)) for _ in range(120)]\n",
        "result = mda2.youngest_single_grain(grains)\n",
        "print(f\"youngest grain age: {result.age} uncertainty: {result.uncertainty}\")\n",
        "print(f\"mean age: {sum([grain.age for grain in grains])/len(grains)}\")"
      ]
    }
  ],
  "metadata": {
    "kernelspec": {
      "display_name": "Python (Pyodide)",
      "language": "python",
      "name": "python"
    },
    "language_info": {
      "codemirror_mode": {
        "name": "python",
        "version": 3
      },
      "file_extension": ".py",
      "mimetype": "text/x-python",
      "name": "python",
      "nbconvert_exporter": "python",
      "pygments_lexer": "ipython3",
      "version": "3.8"
    }
  },
  "nbformat": 4,
  "nbformat_minor": 4
}
