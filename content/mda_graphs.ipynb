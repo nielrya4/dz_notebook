{
 "metadata": {
  "kernelspec": {
   "name": "python3",
   "display_name": "Python 3 (ipykernel)",
   "language": "python"
  },
  "language_info": {
   "codemirror_mode": {
    "name": "python",
    "version": 3
   },
   "file_extension": ".py",
   "mimetype": "text/x-python",
   "name": "python",
   "nbconvert_exporter": "python",
   "pygments_lexer": "ipython3",
   "version": "3.8"
  }
 },
 "nbformat_minor": 5,
 "nbformat": 4,
 "cells": [
  {
   "id": "11162e18-a42f-4fbf-9011-c6acc1de482c",
   "cell_type": "code",
   "source": [
    "%pip install dz_lib\n",
    "from dz_lib.utils import data\n",
    "from dz_lib.univariate import mda, distributions\n",
    "from dz_lib.univariate import data as data_1d\n",
    "\n",
    "samples_array = data.excel_to_array(\"data/Simple_example.xlsx\")\n",
    "samples = data.read_1d_samples(samples_array)\n",
    "grains = samples[3].grains\n",
    "new_grains = []\n",
    "for grain in grains:\n",
    "    if 700 < grain.age < 1200:\n",
    "        new_grains.append(grain)\n",
    "graph = mda.ranked_ages_plot(new_grains)\n",
    "graph"
   ],
   "metadata": {
    "trusted": true
   },
   "outputs": [],
   "execution_count": null
  },
  {
   "id": "77e238c2-42eb-449c-bb35-39fbf63872c1",
   "cell_type": "code",
   "source": [
    "new_sample = data_1d.Sample(\"temp\", new_grains)\n",
    "distro = distributions.pdp_function(new_sample, x_min=850, x_max=1150)\n",
    "distro_graph = distributions.distribution_graph([distro])\n",
    "distro_graph"
   ],
   "metadata": {
    "trusted": true
   },
   "outputs": [],
   "execution_count": null
  },
  {
   "id": "d6b18765-b407-4256-a33b-202e06edb251",
   "cell_type": "code",
   "source": [
    "import numpy as np\n",
    "\n",
    "fitted_grain, fitted_distro = mda.youngest_gaussian_fit(new_sample.grains)\n",
    "fitted_distro = fitted_distro.subset(x_min=850, x_max=1150)\n",
    "distro = distro.subset(x_min=850, x_max=1150)\n",
    "graph = distributions.distribution_graph([distro, fitted_distro], color_map=\"rainbow\")\n",
    "graph"
   ],
   "metadata": {
    "trusted": true
   },
   "outputs": [],
   "execution_count": null
  }
 ]
}
