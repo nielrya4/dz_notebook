{
 "cells": [
  {
   "metadata": {},
   "cell_type": "markdown",
   "source": "# MDA Graphs using dz_lib and Pyodide",
   "id": "5d37db6ea96d953e"
  },
  {
   "metadata": {},
   "cell_type": "code",
   "source": [
    "%pip install dz_lib\n",
    "from dz_lib.utils import data\n",
    "from dz_lib.univariate import mda, distributions\n",
    "from dz_lib.univariate.data import Sample"
   ],
   "id": "77db56dd7d03fbd9",
   "outputs": [],
   "execution_count": null
  },
  {
   "metadata": {},
   "cell_type": "code",
   "source": [
    "samples_array = data.excel_to_array(\"data/Simple_example.xlsx\")\n",
    "samples = data.read_1d_samples(samples_array)\n",
    "grains = samples[3].grains\n",
    "new_grains = []\n",
    "for grain in grains:\n",
    "    if 700 < grain.age < 1200:\n",
    "        new_grains.append(grain)\n",
    "graph = mda.ranked_ages_plot(new_grains)\n",
    "graph"
   ],
   "id": "11162e18-a42f-4fbf-9011-c6acc1de482c",
   "outputs": [],
   "execution_count": null
  },
  {
   "metadata": {},
   "cell_type": "code",
   "source": [
    "new_sample = Sample(\"temp\", new_grains)\n",
    "distro = distributions.pdp_function(new_sample)\n",
    "distro_graph = distributions.distribution_graph([distro])\n",
    "distro_graph"
   ],
   "id": "77e238c2-42eb-449c-bb35-39fbf63872c1",
   "outputs": [],
   "execution_count": null
  },
  {
   "metadata": {},
   "cell_type": "code",
   "source": [
    "fitted_grain, fitted_distro = mda.youngest_gaussian_fit(new_sample.grains)\n",
    "fitted_distro = fitted_distro.subset(x_min=850, x_max=1150)\n",
    "distro = distro.subset(x_min=850, x_max=1150)\n",
    "graph = distributions.distribution_graph([distro, fitted_distro], color_map=\"rainbow\")\n",
    "graph"
   ],
   "id": "d6b18765-b407-4256-a33b-202e06edb251",
   "outputs": [],
   "execution_count": null
  },
  {
   "metadata": {},
   "cell_type": "code",
   "source": [
    "comparison_graph = mda.comparison_graph(new_sample.grains)\n",
    "comparison_graph"
   ],
   "id": "b9b634681cfd242d",
   "outputs": [],
   "execution_count": null
  },
  {
   "cell_type": "code",
   "id": "41c3347e-bc6a-4464-89ab-e1339bb8b4bf",
   "metadata": {},
   "source": [],
   "outputs": [],
   "execution_count": null
  }
 ],
 "metadata": {
  "kernelspec": {
   "display_name": "Python 3 (ipykernel)",
   "language": "python",
   "name": "python3"
  },
  "language_info": {
   "codemirror_mode": {
    "name": "ipython",
    "version": 3
   },
   "file_extension": ".py",
   "mimetype": "text/x-python",
   "name": "python",
   "nbconvert_exporter": "python",
   "pygments_lexer": "ipython3",
   "version": "3.10.12"
  }
 },
 "nbformat": 4,
 "nbformat_minor": 5
}
