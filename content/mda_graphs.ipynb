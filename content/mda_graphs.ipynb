{
 "cells": [
  {
   "metadata": {},
   "cell_type": "markdown",
   "source": "# MDA Graphs using dz_lib and Pyodide",
   "id": "5d37db6ea96d953e"
  },
  {
   "metadata": {},
   "cell_type": "markdown",
   "source": "Get everything ready:",
   "id": "b9a560bacfc7ba96"
  },
  {
   "metadata": {},
   "cell_type": "code",
   "source": [
    "%pip install dz_lib\n",
    "from dz_lib.utils import data\n",
    "from dz_lib.univariate import mda, distributions\n",
    "from dz_lib.univariate.data import Sample"
   ],
   "id": "77db56dd7d03fbd9",
   "outputs": [],
   "execution_count": null
  },
  {
   "metadata": {},
   "cell_type": "markdown",
   "source": "Load the grains:",
   "id": "9cfb48bf8fd08704"
  },
  {
   "metadata": {},
   "cell_type": "code",
   "source": [
    "samples_array = data.excel_to_array(\"data/DZmda_test_input_1s_uncertainty.xlsx\")\n",
    "samples = data.read_1d_samples(samples_array)\n",
    "sample = samples[0]"
   ],
   "id": "6913a12fdcc37a6",
   "outputs": [],
   "execution_count": null
  },
  {
   "metadata": {},
   "cell_type": "markdown",
   "source": "Graph a ranked ages plot:",
   "id": "b276a357a79ed248"
  },
  {
   "metadata": {},
   "cell_type": "code",
   "source": [
    "graph = mda.ranked_ages_plot(sample.grains, x_min=128, x_max=143)\n",
    "graph"
   ],
   "id": "11162e18-a42f-4fbf-9011-c6acc1de482c",
   "outputs": [],
   "execution_count": null
  },
  {
   "metadata": {},
   "cell_type": "markdown",
   "source": "Graph a subset of the age distribution of the whole sample:",
   "id": "bfe8f4788d12ba5e"
  },
  {
   "metadata": {},
   "cell_type": "code",
   "source": [
    "distro = distributions.pdp_function(sample)\n",
    "distro_graph = distributions.distribution_graph([distro], x_min=128, x_max=143)\n",
    "distro_graph"
   ],
   "id": "77e238c2-42eb-449c-bb35-39fbf63872c1",
   "outputs": [],
   "execution_count": null
  },
  {
   "metadata": {},
   "cell_type": "markdown",
   "source": "Graph the youngest gaussian fit:",
   "id": "644805943d5745d0"
  },
  {
   "metadata": {},
   "cell_type": "code",
   "source": [
    "fitted_grain, fitted_distro = mda.youngest_gaussian_fit(sample.grains)\n",
    "graph = distributions.distribution_graph([distro, fitted_distro], color_map=\"rainbow\", x_min=128, x_max=143)\n",
    "graph"
   ],
   "id": "d6b18765-b407-4256-a33b-202e06edb251",
   "outputs": [],
   "execution_count": null
  },
  {
   "metadata": {},
   "cell_type": "markdown",
   "source": "Make a graph comparing the different MDA metrics:",
   "id": "8b2f5f6d63ad7370"
  },
  {
   "metadata": {},
   "cell_type": "code",
   "source": [
    "comparison_graph = mda.comparison_graph(sample.grains)\n",
    "comparison_graph"
   ],
   "id": "b9b634681cfd242d",
   "outputs": [],
   "execution_count": null
  }
 ],
 "metadata": {
  "kernelspec": {
   "display_name": "Python 3 (ipykernel)",
   "language": "python",
   "name": "python3"
  },
  "language_info": {
   "codemirror_mode": {
    "name": "ipython",
    "version": 3
   },
   "file_extension": ".py",
   "mimetype": "text/x-python",
   "name": "python",
   "nbconvert_exporter": "python",
   "pygments_lexer": "ipython3",
   "version": "3.10.12"
  }
 },
 "nbformat": 4,
 "nbformat_minor": 5
}
